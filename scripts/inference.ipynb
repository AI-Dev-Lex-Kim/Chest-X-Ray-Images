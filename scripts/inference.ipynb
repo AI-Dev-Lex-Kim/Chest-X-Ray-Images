{
 "cells": [],
 "metadata": {
  "colab": {
   "authorship_tag": "ABX9TyNwrQdcwKoBaxVKToR0q77Z",
   "name": "Untitled"
  },
  "kernelspec": {
   "display_name": "Python 3",
   "name": "python3"
  },
  "language_info": {
   "name": "python"
  }
 },
 "nbformat": 4,
 "nbformat_minor": 0
}
