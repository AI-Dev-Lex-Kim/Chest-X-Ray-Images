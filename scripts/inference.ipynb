{
 "cells": [
  {
   "cell_type": "code",
   "execution_count": null,
   "metadata": {},
   "outputs": [],
   "source": [
    "# transform\n",
    "\n",
    "# Dataset\n",
    "\n",
    "def main(cfg):\n",
    "    # device\n",
    "    device = torch.device(\"cuda\" if torch.cuda.is_available() else \"cpu\")\n",
    "\n",
    "    # transform\n",
    "    transform = get_transform(cfg.hparam.resize, cfg.hparam.mean, cfg.hparam.std)\n",
    "\n",
    "    # dataset\n",
    "    dataset = ImageFolder(root=cfg.hparam.test_dir, transform=transform)\n",
    "\n",
    "    # test loader\n",
    "    create_loader(dataset, cfg.hparam.batch_size,False, is_train=False ,shuffle=False)\n",
    "\n",
    "    # model\n",
    "    num_classes = 2\n",
    "    model = get_model(cfg.models.resnet50, device)\n",
    "    in_features = model.fc.in_features\n",
    "    model.fc = nn.Linear(in_features, num_classes)\n",
    "    \n",
    "\n",
    "    # best_model\n",
    "    best_model_path = cfg.model.checkpoint\n",
    "    model.eval()\n",
    "\n",
    "    # inference\n",
    "    with torch.no_grad():\n",
    "\n",
    "\n",
    "    # flaten\n",
    "\n",
    "    # subplot\n",
    "\n",
    "\n",
    "\n"
   ]
  }
 ],
 "metadata": {
  "colab": {
   "authorship_tag": "ABX9TyNwrQdcwKoBaxVKToR0q77Z",
   "name": "Untitled"
  },
  "kernelspec": {
   "display_name": "Python 3",
   "name": "python3"
  },
  "language_info": {
   "name": "python"
  }
 },
 "nbformat": 4,
 "nbformat_minor": 0
}
