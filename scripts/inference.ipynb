{
 "cells": [
  {
   "cell_type": "code",
   "execution_count": null,
   "metadata": {},
   "outputs": [],
   "source": [
    "from utils.training_loop import set_seed, seed_worker, get_optimizer, train_one_epoch, evaluate_one_epoch\n",
    "from utils.helper import save_imgs_df, get_std\n",
    "from utils.transforms import get_transform\n",
    "from utils.data import data_split, create_loader\n",
    "from utils.model import get_model\n",
    "from utils.training_loop import set_seed, seed_worker, get_optimizer, train_one_epoch, evaluate_one_epoch\n",
    "from utils.checkpoint import save_best_model_weight, save_hparam, save_loss_log\n",
    "from omegaconf import OmegaConf\n",
    "\n",
    "import pandas as pd\n",
    "import torch\n",
    "import torch.nn as nn\n",
    "from torchvision.datasets import ImageFolder"
   ]
  },
  {
   "cell_type": "code",
   "execution_count": null,
   "metadata": {},
   "outputs": [],
   "source": [
    "def main(cfg):\n",
    "    baseline_cfg = OmegaConf.load(cfg.baseline_cfg)\n",
    "    transform = get_transform(cfg.transform.resize, cfg.transform.normalize.mean, cfg.transform.normalize.std)\n",
    "    \n",
    "    dataset = ImageFolder(cfg.data.test_dir, transform=transform)\n",
    "    loader = create_loader(dataset, cfg.eval.batch_size, is_train=False, num_workers=4)\n",
    "\n",
    "    device = torch.device(\"cuda\" if torch.cuda.is_available() else \"cpu\")\n",
    "    model = get_model(cfg.models.resnet50, device)\n",
    "    state_dict = torch.load(cfg.models.checkpoint.best_model_weight)\n",
    "    model.load_state_dict(state_dict)\n",
    "    model.eval()\n",
    "\n",
    "    with torch.no_grad():\n",
    "        for i, (images, labels) in enumerate(loader):\n",
    "            images = images.to(device)\n",
    "            labels = labels.to(device)\n",
    "            logits = model(images)\n",
    "            preds = torch.argmax(logits, dim=1)\n",
    "            print('--'*20)\n",
    "            print(f\"Batch {i+1}/{len(loader)}, Predicted: {preds}, Actual: {labels}\")\n",
    "            print(f'Accuracy: {torch.sum(preds == labels).item() / len(labels) * 100:.2f}%')\n",
    "\n",
    "            \n",
    "\n",
    "\n",
    "\n",
    "\n",
    "\n",
    "\n",
    "    \n",
    "\n",
    "\n",
    "\n"
   ]
  }
 ],
 "metadata": {
  "colab": {
   "authorship_tag": "ABX9TyNwrQdcwKoBaxVKToR0q77Z",
   "name": "Untitled"
  },
  "kernelspec": {
   "display_name": "Python 3",
   "name": "python3"
  },
  "language_info": {
   "name": "python"
  }
 },
 "nbformat": 4,
 "nbformat_minor": 0
}
