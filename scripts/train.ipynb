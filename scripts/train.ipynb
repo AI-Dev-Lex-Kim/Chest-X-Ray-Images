{
 "cells": [
  {
   "cell_type": "code",
   "execution_count": null,
   "metadata": {
    "id": "h9PbfzphYUdT"
   },
   "outputs": [],
   "source": [
    "def main(cfg):\n",
    "    # 시드 설정\n",
    "    print(f'cfg: {cfg}')\n",
    "    set_seed(cfg.hparam.train.seed)\n",
    "\n",
    "    # mean, std\n",
    "    meta_path = f'{cfg.data.root}/meta.csv'\n",
    "    if os.path.exists(meta_path):\n",
    "        save_imgs_df(cfg)\n",
    "\n",
    "    df = pd.read_csv(meta_path)\n",
    "    df.describe()\n",
    "    width, height, mean, std = (df['width'], df['height'], df['mean'], df[std])\n",
    "    print(f'width:{width} | height:{height} mean: {mean} | std: {std}')\n",
    "\n",
    "    # transform\n",
    "    transform = get_transform(cfg.hparam.train.resize, mean, std)\n",
    "\n",
    "    # DataSet(ImageFolder)\n",
    "    dataset = ImageFolder(root=cfg.hparam.train_dir, transform=transform)\n",
    "\n",
    "    # data split\n",
    "    train_ds, val_ds, test_ds = data_split(dataset, [0.8, 0.1, 0.1])\n",
    "\n",
    "    # dataloader\n",
    "    train_loader = create_loader(train_ds, cfg.hparam.train.batch_size, seed_worker, shuffle=True ,seed=cfg.hparam.train.seed)\n",
    "    val_loader = create_loader(val_ds, cfg.hparam.train.batch_size, seed_worker, shuffle=False ,seed=cfg.hparam.train.seed)\n",
    "    test_loader = create_loader(test_ds, cfg.hparam.train.batch_size, seed_worker, shuffle=False ,seed=cfg.hparam.train.seed)\n",
    "\n",
    "    # model, device, criterion, optimizer\n",
    "    device = torch.device('cuda' if torch.cuda.is_available() else 'cpu')\n",
    "    model = get_model(cfg.models.resnet50, device)\n",
    "    criterion = nn.MSELoss()\n",
    "    optimizer = get_optimizer(cfg, model)\n",
    "\n",
    "    # training loop\n",
    "    best_loss = float('inf')\n",
    "\n",
    "\n",
    "    for epoch in range(1, cfg.hparam.train.epochs + 1):\n",
    "        start = time.time()\n",
    "        train_loss = train_one_epoch(model, train_loader, criterion,optimizer, device)\n",
    "\n",
    "        # evaluate val\n",
    "        val_loss, val_accuracy = evaluate_one_epoch(model, val_loader, criterion, device)\n",
    "        elasped = time.time() - start\n",
    "\n",
    "        # evaluate test\n",
    "        test_loss, test_accuracy = evaluate_one_epoch(model, test_loader, criterion, device)\n",
    "        print(f\"Epoch {epoch}/{cfg.hparam.train.epochs}\")\n",
    "        print(f\"Train loss: {train_loss:.4f}\")\n",
    "        print(f\"Valid loss: {val_loss:.4f} | Valid Accuracy: {val_accuracy:.2f} | {elasped}s\")\n",
    "        print(f\"Test loss: {test_loss:.4f} | Test Accuracy: {test_accuracy:.2f}\")\n",
    "\n",
    "        # save best model\n",
    "        if val_loss < best_loss:\n",
    "            save_best_model_weight(model, val_loss, best_loss, cfg.project_root, cfg.exp_idx,filename=\"best_model.pth\")\n",
    "            save_hparam(cfg.hparam, cfg.exp_idx, cfg.project_root, filename='hparam.yaml')\n",
    "            save_loss_log(epoch, train_loss, val_loss, test_loss, cfg.exp_idx, cfg.project_root, filename=\"loss_log.csv\")\n",
    "\n"
   ]
  },
  {
   "cell_type": "code",
   "execution_count": null,
   "metadata": {
    "id": "DLzbkxiVYUdW"
   },
   "outputs": [],
   "source": [
    "def run_train(cfg):\n",
    "    main(cfg)"
   ]
  }
 ],
 "metadata": {
  "colab": {
   "provenance": []
  },
  "kernelspec": {
   "display_name": "test",
   "language": "python",
   "name": "python3"
  },
  "language_info": {
   "name": "python",
   "version": "3.12.7"
  }
 },
 "nbformat": 4,
 "nbformat_minor": 0
}
