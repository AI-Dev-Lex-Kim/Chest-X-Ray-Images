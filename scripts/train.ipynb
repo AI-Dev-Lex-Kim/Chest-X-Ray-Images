{
 "cells": [
  {
   "cell_type": "code",
   "execution_count": null,
   "metadata": {
    "id": "nzioYKUJp-s9"
   },
   "outputs": [],
   "source": [
    "from utils.training_loop import set_seed, seed_worker, get_optimizer, train_one_epoch, evaluate_one_epoch\n",
    "from utils.helper import save_imgs_df, get_std\n",
    "from utils.transforms import get_transform\n",
    "from utils.data import data_split, create_loader\n",
    "from utils.model import get_model\n",
    "from utils.training_loop import set_seed, seed_worker, get_optimizer, train_one_epoch, evaluate_one_epoch\n",
    "from utils.checkpoint import save_best_model_weight, save_hparam, save_loss_log\n",
    "\n",
    "import os\n",
    "import time\n",
    "import pandas as pd\n",
    "import yaml\n",
    "import torch\n",
    "import torch.nn as nn\n",
    "from torchvision.datasets import ImageFolder"
   ]
  },
  {
   "cell_type": "code",
   "execution_count": null,
   "metadata": {
    "id": "h9PbfzphYUdT"
   },
   "outputs": [
    {
     "ename": "",
     "evalue": "",
     "output_type": "error",
     "traceback": [
      "\u001b[1;31m'test (Python 3.12.7)'(으)로 셀을 실행하려면 ipykernel 패키지가 필요합니다.\n",
      "\u001b[1;31m필요한 패키지를 사용하여 <a href='command:jupyter.createPythonEnvAndSelectController'>Python 환경 만들기</a>\n",
      "\u001b[1;31m또는 다음 명령을 사용하여 'ipykernel'을(를) 설치합니다. 'conda install -n test ipykernel --update-deps --force-reinstall'"
     ]
    }
   ],
   "source": [
    "def main(cfg):\n",
    "    # 시드 설정\n",
    "    set_seed(cfg.hparam.train.seed)\n",
    "\n",
    "    # mean, std\n",
    "    meta_path = f'{cfg.data.root}/meta.csv'\n",
    "    # save_imgs_df(cfg)\n",
    "\n",
    "    df = pd.read_csv(meta_path)\n",
    "    df.info()\n",
    "\n",
    "    # 이미지별 픽셀 수 게산\n",
    "    pixel_counts = df['width'] * df['height']\n",
    "\n",
    "    # 전체 데이터셋 평균(mean) 계산\n",
    "    print('# 전체 데이터셋 평균(mean) 계산')\n",
    "    mean = (df['mean'] * pixel_counts).sum() / pixel_counts.sum()\n",
    "    width = df['width'].mean()\n",
    "    height = df['height'].mean()\n",
    "    std = get_std(df, pixel_counts, mean)\n",
    "    print(f'width:{int(width)} | height:{int(height)} mean: {mean} | std: {std}')\n",
    "\n",
    "\n",
    "    # transform\n",
    "    print('transform = get_transform(cfg.hparam.resize, mean, std): ')\n",
    "    transform = get_transform(cfg.hparam.resize, mean, std)\n",
    "\n",
    "    # DataSet(ImageFolder)\n",
    "    print('# DataSet(ImageFolder)')\n",
    "    dataset = ImageFolder(root=cfg.data.train_dir, transform=transform)\n",
    "\n",
    "    # data split\n",
    "    print('# data split: ')\n",
    "    train_ds, val_ds, test_ds = data_split(dataset, [0.8, 0.1, 0.1])\n",
    "\n",
    "    print('# dataloader')\n",
    "    # dataloader\n",
    "    print('train_loder')\n",
    "    train_loader = create_loader(train_ds, cfg.hparam.train.batch_size, seed_worker,is_train=True, shuffle=True ,seed=cfg.hparam.train.seed)\n",
    "    print('val_loader')\n",
    "    val_loader = create_loader(val_ds, cfg.hparam.train.batch_size, seed_worker,is_train=True, shuffle=False ,seed=cfg.hparam.train.seed)\n",
    "    print('test_loader')\n",
    "    test_loader = create_loader(test_ds, cfg.hparam.train.batch_size, seed_worker,is_train=True, shuffle=False ,seed=cfg.hparam.train.seed)\n",
    "\n",
    "    # model, device, criterion, optimizer\n",
    "    print('device')\n",
    "    device = torch.device('cuda' if torch.cuda.is_available() else 'cpu')\n",
    "    print(f'device: {device}')\n",
    "\n",
    "    print('model')\n",
    "    model = get_model(cfg.hparam.models.resnet50, device)\n",
    "\n",
    "    print('criterion')\n",
    "    criterion = nn.CrossEntropyLoss()\n",
    "\n",
    "    print('optimizer')\n",
    "    optimizer = get_optimizer(cfg, model)\n",
    "\n",
    "    # training loop\n",
    "    print('best_loss')\n",
    "    best_loss = float('inf')\n",
    "\n",
    "\n",
    "    print('for epoch in range(1, cfg.hparam.train.epochs + 1):')\n",
    "    for epoch in range(1, cfg.hparam.train.epochs + 1):\n",
    "        print('train_loss, train_time')\n",
    "        train_loss, train_time = train_one_epoch(model, train_loader, criterion,optimizer, device)\n",
    "\n",
    "\n",
    "        print('# evaluate val')\n",
    "        # evaluate val\n",
    "        val_loss, val_accuracy, val_time = evaluate_one_epoch(model, val_loader, criterion, device)\n",
    "\n",
    "        print('# evaluate test')\n",
    "        # evaluate test\n",
    "        test_loss, test_accuracy, test_time = evaluate_one_epoch(model, test_loader, criterion, device)\n",
    "        print(f\"Epoch {epoch}/{cfg.hparam.train.epochs}\")\n",
    "        print(f\"Train loss: {train_loss:.4f} | {train_time}s\")\n",
    "        print(f\"Valid loss: {val_loss:.4f} | Valid Accuracy: {val_accuracy:.2f} | {val_time}s\")\n",
    "        print(f\"Test loss: {test_loss:.4f} | Test Accuracy: {test_accuracy:.2f} | {test_time}s\")\n",
    "\n",
    "        # save best model\n",
    "        print('# save best model')\n",
    "        if val_loss < best_loss:\n",
    "            print('save_best_model_weight(')\n",
    "            save_best_model_weight(model, val_loss, best_loss, cfg.project_root, cfg.exp_idx,filename=\"best_model.pth\")\n",
    "\n",
    "            print('save_hparam')\n",
    "            save_hparam(cfg.hparam, cfg.exp_idx, cfg.project_root, filename='hparam.yaml')\n",
    "\n",
    "            print('save_loss_log')\n",
    "            save_loss_log(epoch, train_loss, val_loss, test_loss, cfg.exp_idx, cfg.project_root, filename=\"loss_log.csv\")\n",
    "            \n",
    "            # yaml 파일 exp_idx + 1 늘리기\n",
    "            print('# yaml 파일 exp_idx + 1 늘리기')\n",
    "            cfg['exp+idx'] = cfg['exp_idx'] + 1\n",
    "            print('open({cfg.project_root)')\n",
    "            with open(f'{cfg.project_root}/configs/baseline.yaml', 'w') as f:\n",
    "                yaml.dump(cfg, f, defalut_flow_style=False, sort_keys=False)\n",
    "\n"
   ]
  },
  {
   "cell_type": "code",
   "execution_count": null,
   "metadata": {
    "id": "DLzbkxiVYUdW"
   },
   "outputs": [],
   "source": [
    "def run_train(cfg):\n",
    "    main(cfg)"
   ]
  }
 ],
 "metadata": {
  "colab": {
   "provenance": []
  },
  "kernelspec": {
   "display_name": "test",
   "language": "python",
   "name": "python3"
  },
  "language_info": {
   "name": "python",
   "version": "3.12.7"
  }
 },
 "nbformat": 4,
 "nbformat_minor": 0
}
