{
 "cells": [
  {
   "cell_type": "code",
   "execution_count": null,
   "id": "1bb1d7ac",
   "metadata": {},
   "outputs": [],
   "source": [
    "# create checkpoint dir\n",
    "def _ensure_checkpoint_dir(exp_idx, project_root_path):\n",
    "    ckpt_dir = os.path.join(project_root_path,f'checkpoints/ex_{exp_idx}')\n",
    "    os.makedirs(ckpt_dir, exist_ok=True)\n",
    "    return ckpt_dir\n",
    "\n",
    "# save best model\n",
    "def save_best_model_weight(model,val_loss, best_loss, project_root_path,exp_idx ,filename=\"best_model.pth\"):\n",
    "    chpt_dir = _ensure_checkpoint_dir(exp_idx, project_root_path)\n",
    "    file_path = os.path.join(chpt_dir, filename)\n",
    "\n",
    "    if val_loss < best_loss:\n",
    "\n",
    "        torch.save(model.state_dict(), file_path)\n",
    "    \n",
    "    return best_loss\n",
    "\n",
    "# save hparam log \n",
    "def save_hparam(hparams, exp_idx, project_root_path, filename='hparam.yaml'):\n",
    "    ckpt_dir = _ensure_checkpoint_dir(exp_idx, project_root_path)\n",
    "    file_path = os.path.join(ckpt_dir, filename)\n",
    "\n",
    "    # 들여쓰기로 포맷, 한글, 유니코드 문자 그대로 출력\n",
    "    with open(file_path, 'w') as f:\n",
    "        yaml.dump(hparams, f, default_flow_style=False, allow_unicode=True) \n",
    "\n",
    "# save loss log\n",
    "def save_loss_log(epoch, train_loss, val_loss, test_loss, exp_idx, project_root_path, filename=\"loss_log.csv\"):\n",
    "    ckpt_dir = _ensure_checkpoint_dir(exp_idx, project_root_path)\n",
    "    file_path = os.path.join(ckpt_dir, filename)\n",
    "    file_exists = os.path.exists(file_path)\n",
    "\n",
    "    with open(file_path, mode='a', newline='', encoding='utf-8') as f:\n",
    "        writer = csv.writer(f)\n",
    "        if not file_exists:\n",
    "            writer.writerow(['epoch', 'train_loss', 'val_loss', 'test_loss'])\n",
    "        writer.writerow([epoch, train_loss, val_loss, test_loss])\n",
    "            \n",
    "            \n"
   ]
  }
 ],
 "metadata": {
  "kernelspec": {
   "display_name": "test",
   "language": "python",
   "name": "python3"
  },
  "language_info": {
   "name": "python",
   "version": "3.12.7"
  }
 },
 "nbformat": 4,
 "nbformat_minor": 5
}
