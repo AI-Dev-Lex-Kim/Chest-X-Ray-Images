{
 "cells": [
  {
   "cell_type": "code",
   "execution_count": null,
   "id": "1bb1d7ac",
   "metadata": {},
   "outputs": [],
   "source": [
    "import os\n",
    "import torch\n",
    "import csv\n",
    "from omegaconf import OmegaConf\n",
    "\n",
    "# create checkpoint dir\n",
    "def _ensure_checkpoint_dir(exp_idx, project_root_path):\n",
    "    ckpt_dir = os.path.join(project_root_path,f'checkpoints/ex_{exp_idx}')\n",
    "    os.makedirs(ckpt_dir, exist_ok=True)\n",
    "    return ckpt_dir\n",
    "\n",
    "# save best model\n",
    "def save_best_model_weight(model,val_loss, best_loss, project_root_path,exp_idx ,filename=\"best_model_weight.pth\"):\n",
    "    chpt_dir = _ensure_checkpoint_dir(exp_idx, project_root_path)\n",
    "    file_path = os.path.join(chpt_dir, filename)\n",
    "\n",
    "    if val_loss < best_loss:\n",
    "\n",
    "        torch.save(model.state_dict(), file_path)\n",
    "    \n",
    "    return best_loss\n",
    "\n",
    "# save hparam log \n",
    "def save_hparam(cfg, exp_idx, project_root_path, filename='hparam.yaml'):\n",
    "    ckpt_dir = _ensure_checkpoint_dir(exp_idx, project_root_path)\n",
    "    file_path = os.path.join(ckpt_dir, filename)\n",
    "\n",
    "    OmegaConf.save(config=cfg, f=file_path, resolve=True)\n",
    "\n",
    "# save loss log\n",
    "def save_loss_log(epoch, train_loss, val_loss, test_loss, exp_idx, project_root_path, filename=\"loss_log.csv\"):\n",
    "    ckpt_dir = _ensure_checkpoint_dir(exp_idx, project_root_path)\n",
    "    file_path = os.path.join(ckpt_dir, filename)\n",
    "    file_exists = os.path.exists(file_path)\n",
    "\n",
    "    with open(file_path, mode='a', newline='', encoding='utf-8') as f:\n",
    "        writer = csv.writer(f)\n",
    "        if not file_exists:\n",
    "            writer.writerow(['epoch', 'train_loss', 'val_loss', 'test_loss'])\n",
    "        writer.writerow([epoch, train_loss, val_loss, test_loss])"
   ]
  }
 ],
 "metadata": {
  "kernelspec": {
   "display_name": "test",
   "language": "python",
   "name": "python3"
  },
  "language_info": {
   "name": "python",
   "version": "3.12.7"
  }
 },
 "nbformat": 4,
 "nbformat_minor": 5
}
