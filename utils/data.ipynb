{
 "cells": [
  {
   "cell_type": "code",
   "execution_count": null,
   "id": "21e17122",
   "metadata": {},
   "outputs": [],
   "source": [
    "from torch.utils.data import DataLoader, random_split\n",
    "import torch\n",
    "\n",
    "def data_split(dataset,split_ratio):\n",
    "    \"\"\" 데이터를 스플릿 해준다.\n",
    "\n",
    "    Args:\n",
    "        dataset (dataset): dataset\n",
    "        split_ratio (array): [train, val, test] 비율을 넣어준다. ex)[0.8, 0.1, 0.1]\n",
    "\n",
    "    Returns:\n",
    "        _type_: train_ds, val_ds, test_ds\n",
    "    \"\"\"\n",
    "    total_count = len(dataset)\n",
    "    n_train = int(total_count * split_ratio[0])\n",
    "    n_val = int(total_count * split_ratio[1])\n",
    "    n_test = total_count - n_train - n_val\n",
    "\n",
    "    g = torch.Generator().manual_seed(42) \n",
    "\n",
    "    return random_split(dataset, [n_train, n_val, n_test], generator=g) \n",
    "\n",
    "def create_loader(dataset, batch_size, seed_worker=None,is_train=True, shuffle=False,seed=42,num_workers=4):\n",
    "    if is_train:\n",
    "        g = torch.Generator() \n",
    "        g.manual_seed(seed)\n",
    "\n",
    "        return DataLoader( \n",
    "            dataset,\n",
    "            batch_size=batch_size,\n",
    "            shuffle=shuffle,\n",
    "            worker_init_fn=seed_worker,\n",
    "            generator=g,\n",
    "            num_workers=num_workers,\n",
    "            pin_memory=True,\n",
    "            prefetch_factor=2,\n",
    "        )\n",
    "    else:\n",
    "        return DataLoader(\n",
    "            dataset,\n",
    "            batch_size=batch_size,\n",
    "            shuffle=False,\n",
    "            num_workers=num_workers,\n",
    "            worker_init_fn=None\n",
    "        )"
   ]
  }
 ],
 "metadata": {
  "kernelspec": {
   "display_name": "test",
   "language": "python",
   "name": "python3"
  },
  "language_info": {
   "name": "python",
   "version": "3.12.7"
  }
 },
 "nbformat": 4,
 "nbformat_minor": 5
}
