{
 "cells": [
  {
   "cell_type": "code",
   "execution_count": null,
   "id": "fb70b98e",
   "metadata": {},
   "outputs": [],
   "source": [
    "def get_describe(imgs_dir_path, fname_list):\n",
    "        records = []\n",
    "        for fname in fname_list:\n",
    "            img_path = os.path.join(imgs_dir_path, fname)\n",
    "\n",
    "            img = Image.open(img_path).convert('L')\n",
    "\n",
    "            arr = np.array(img, dtype=float) / 255\n",
    "            mean = float(arr.mean())\n",
    "            std = float(arr.std())\n",
    "\n",
    "            records.append({\n",
    "                'width': img.size.width,\n",
    "                'height': img.size.height,\n",
    "                'mean': mean,\n",
    "                'std': std\n",
    "            })\n",
    "            \n",
    "        return records\n",
    "\n",
    "def save_imgs_df(cfg):\n",
    "    normal_path = f'{cfg.data.train_dir}/NORMAL'\n",
    "    pneu_path = f'{cfg.data.train_dir}/PNEUMONIA'\n",
    "    normal_images_list = get_image_list(normal_path)\n",
    "    pneu_images_list = get_image_list(pneu_path)\n",
    "\n",
    "    \n",
    "    normal_records = get_describe(normal_path, normal_images_list)\n",
    "    pneu_records = get_describe(pneu_path, pneu_images_list)\n",
    "    total_records = np.concatenate((normal_records, pneu_records))\n",
    "\n",
    "    df = pd.DataFrame(total_records)\n",
    "    df.to_csv(f'{cfg.data.root}/meta.csv', index=False)\n",
    "\n",
    "\n",
    "def get_image_list(dir_path):\n",
    "    image_list = []\n",
    "    for f in os.listdir(dir_path):\n",
    "        name = f.lower()\n",
    "        if(name.endswith('.jpg') or name.endswith('.png') or name.endswith('.jpeg')):\n",
    "            image_list.append(f)\n",
    "    return image_list"
   ]
  }
 ],
 "metadata": {
  "kernelspec": {
   "display_name": "test",
   "language": "python",
   "name": "python3"
  },
  "language_info": {
   "name": "python",
   "version": "3.12.7"
  }
 },
 "nbformat": 4,
 "nbformat_minor": 5
}
