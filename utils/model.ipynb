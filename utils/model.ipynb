{
 "cells": [
  {
   "cell_type": "code",
   "execution_count": null,
   "id": "14436b5e",
   "metadata": {},
   "outputs": [],
   "source": [
    "from torchvision import models\n",
    "import torch.nn as nn\n",
    "\n",
    "def get_model(cfg_model, device):\n",
    "    model_type = cfg_model.type\n",
    "\n",
    "    num_classes = 2\n",
    "\n",
    "    if model_type == 'resnet50':\n",
    "        model = models.resnet50(weights='DEFAULT')\n",
    "\n",
    "        num_features = model.fc.in_features\n",
    "        model.fc = nn.Sequential(\n",
    "            nn.Linear(num_features, 128),\n",
    "            nn.ReLU(),\n",
    "            nn.Dropout(0.4),\n",
    "            nn.Linear(128, num_classes),\n",
    "        )\n",
    "\n",
    "    elif model_type == 'efficientnet_b0':\n",
    "        model = models.efficientnet_b0(weights=cfg_model.pretrained)\n",
    "        model.classifier = nn.Linear(model.classifier.in_features, cfg_model.num_classes)\n",
    "\n",
    "    if cfg_model.freeze_backbone:\n",
    "        for name, param in model.named_parameters():\n",
    "            if not('fc' in name or 'classifier' in name):\n",
    "                param.requires_grad = False\n",
    "\n",
    "    return model.to(device)"
   ]
  }
 ],
 "metadata": {
  "kernelspec": {
   "display_name": "test",
   "language": "python",
   "name": "python3"
  },
  "language_info": {
   "name": "python",
   "version": "3.12.7"
  }
 },
 "nbformat": 4,
 "nbformat_minor": 5
}
