{
 "cells": [
  {
   "cell_type": "code",
   "execution_count": null,
   "id": "71dafbf8",
   "metadata": {},
   "outputs": [],
   "source": [
    "def set_seed(seed):\n",
    "    random.seed(seed)\n",
    "    np.random.seed(seed)\n",
    "    torch.manual_seed(seed)\n",
    "    torch.cuda.manual_seed(seed)\n",
    "    torch.backends.cudnn.deterministic = True\n",
    "    torch.backends.cudnn.benchmark = False\n",
    "    torch.backends.cudnn.enabled = False\n",
    "    torch.cuda.manual_seed_all(seed)\n",
    "\n",
    "\n",
    "def seed_worker(worker_id):\n",
    "    worker_seed = torch.initial_seed() % 2**32\n",
    "    random.seed(worker_seed)\n",
    "    np.random.seed(worker_seed)\n",
    "\n",
    "def get_optimizer(cfg,model):\n",
    "    if cfg.hparam.train.optimizer == 'Adam':\n",
    "        optimizer = Adam(\n",
    "            params=model.parameter(),\n",
    "            lr=cfg.hparam.train.lr,\n",
    "        )\n",
    "        return optimizer\n",
    "\n",
    "# evaluate valid\n",
    "def evaluate_one_epoch(model,loader, criterion, device):\n",
    "    model.eval()\n",
    "    correct = 0\n",
    "    total = 0\n",
    "\n",
    "    total_loss = 0.0\n",
    "    with torch.no_grad():\n",
    "        for images, labels in loader:\n",
    "            images = images.to(device)\n",
    "            labels = labels.to(device)\n",
    "\n",
    "            outputs = model(images)\n",
    "            loss = criterion(outputs, labels)\n",
    "            total_loss += loss.item()\n",
    "\n",
    "            prediceted = outputs.argmax(dim=1) # 모델이 각 이미지에 대해 선택한 클래스 번호\n",
    "            correct += (prediceted == labels).sum().item()\n",
    "            total += labels.size(0)\n",
    "\n",
    "    avg_loss = total_loss / len(loader)\n",
    "    accuracy = correct / total\n",
    "\n",
    "    return avg_loss, accuracy\n"
   ]
  }
 ],
 "metadata": {
  "kernelspec": {
   "display_name": "test",
   "language": "python",
   "name": "python3"
  },
  "language_info": {
   "name": "python",
   "version": "3.12.7"
  }
 },
 "nbformat": 4,
 "nbformat_minor": 5
}
