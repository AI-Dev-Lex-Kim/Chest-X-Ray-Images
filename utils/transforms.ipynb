{
 "cells": [
  {
   "cell_type": "code",
   "execution_count": null,
   "id": "a53f7b63",
   "metadata": {},
   "outputs": [],
   "source": [
    "# transform\n",
    "def get_transform(resize, mean, std):\n",
    "    transform = transforms.Compose([\n",
    "        transforms.Resize((resize.width, resize.height)),\n",
    "        transforms.ToTensor(),\n",
    "        transforms.Normalize(mean=mean, std=std)\n",
    "    ])\n",
    "    return transform"
   ]
  }
 ],
 "metadata": {
  "kernelspec": {
   "display_name": "test",
   "language": "python",
   "name": "python3"
  },
  "language_info": {
   "name": "python",
   "version": "3.12.7"
  }
 },
 "nbformat": 4,
 "nbformat_minor": 5
}
